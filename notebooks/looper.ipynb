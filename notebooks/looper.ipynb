{
 "cells": [
  {
   "cell_type": "code",
   "execution_count": 1,
   "metadata": {},
   "outputs": [
    {
     "name": "stderr",
     "output_type": "stream",
     "text": [
      "┌ Warning: no Manifest.toml file found, static paths used\n",
      "└ @ Revise /home/andy/.julia/packages/Revise/C272c/src/Revise.jl:1219\n"
     ]
    }
   ],
   "source": [
    "using Revise"
   ]
  },
  {
   "cell_type": "code",
   "execution_count": 2,
   "metadata": {},
   "outputs": [
    {
     "name": "stdout",
     "output_type": "stream",
     "text": [
      "\u001b[32m\u001b[1mActivating\u001b[22m\u001b[39m environment at `~/dev/julia2wat/Project.toml`\n"
     ]
    },
    {
     "name": "stderr",
     "output_type": "stream",
     "text": [
      "┌ Info: Precompiling julia2wat [683821a8-2d1a-4f23-b146-c2dd114290c7]\n",
      "└ @ Base loading.jl:1273\n",
      "WARNING: Method definition ^(Float64, Float64) in module Math at math.jl:847 overwritten in module julia2wat at /home/andy/dev/julia2wat/src/ops.jl:21.\n",
      "  ** incremental compilation may be fatally broken for this module **\n",
      "\n"
     ]
    }
   ],
   "source": [
    "using Pkg; Pkg.activate(\"../\")\n",
    "using julia2wat\n",
    "#include(\"../src/julia2wat.jl\")"
   ]
  },
  {
   "cell_type": "code",
   "execution_count": 31,
   "metadata": {},
   "outputs": [
    {
     "data": {
      "text/plain": [
       "kaka (generic function with 1 method)"
      ]
     },
     "execution_count": 31,
     "metadata": {},
     "output_type": "execute_result"
    }
   ],
   "source": [
    "function f(N)\n",
    "    s=0.0\n",
    "    i=0\n",
    "    while i<100\n",
    "        i+=1\n",
    "        s+=N\n",
    "    end\n",
    "    return s\n",
    "end\n",
    "\n",
    "kaka(a,b,c,d) = (a+b)*(c+d)"
   ]
  },
  {
   "cell_type": "code",
   "execution_count": 24,
   "metadata": {
    "scrolled": false
   },
   "outputs": [
    {
     "name": "stdout",
     "output_type": "stream",
     "text": [
      "Array{Any}((9,))\n",
      "  1: Nothing nothing\n",
      "  2: Core.PhiNode\n",
      "    edges: Array{Any}((2,))\n",
      "      1: Int64 1\n",
      "      2: Int64 8\n",
      "    values: Array{Any}((2,))\n",
      "      1: Float64 0.0\n",
      "      2: Core.SSAValue\n",
      "        id: Int64 7\n",
      "  3: Core.PhiNode\n",
      "    edges: Array{Any}((2,))\n",
      "      1: Int64 1\n",
      "      2: Int64 8\n",
      "    values: Array{Any}((2,))\n",
      "      1: Int64 0\n",
      "      2: Core.SSAValue\n",
      "        id: Int64 6\n",
      "  4: Expr\n",
      "    head: Symbol call\n",
      "    args: Array{Any}((3,))\n",
      "      1: GlobalRef\n",
      "        mod: Module Base\n",
      "        name: Symbol slt_int\n",
      "      2: Core.SSAValue\n",
      "        id: Int64 3\n",
      "      3: Int64 10\n",
      "  5: Expr\n",
      "    head: Symbol gotoifnot\n",
      "    args: Array{Any}((2,))\n",
      "      1: Core.SSAValue\n",
      "        id: Int64 4\n",
      "      2: Int64 9\n",
      "  6: Expr\n",
      "    head: Symbol call\n",
      "    args: Array{Any}((3,))\n",
      "      1: GlobalRef\n",
      "        mod: Module Base\n",
      "        name: Symbol add_int\n",
      "      2: Core.SSAValue\n",
      "        id: Int64 3\n",
      "      3: Int64 1\n",
      "  7: Expr\n",
      "    head: Symbol call\n",
      "    args: Array{Any}((3,))\n",
      "      1: GlobalRef\n",
      "        mod: Module Base\n",
      "        name: Symbol add_float\n",
      "      2: Core.SSAValue\n",
      "        id: Int64 2\n",
      "      3: Core.SlotNumber\n",
      "        id: Int64 2\n",
      "  8: Core.GotoNode\n",
      "    label: Int64 2\n",
      "  9: Expr\n",
      "    head: Symbol return\n",
      "    args: Array{Any}((1,))\n",
      "      1: Core.SSAValue\n",
      "        id: Int64 2\n",
      "INFO: saved ../wasm/kek.wat\n"
     ]
    }
   ],
   "source": [
    "name = \"../wasm/kek\"\n",
    "\n",
    "#@code_wat kaka(1.0, 2.0, 3.0, 4.0) :($name)\n",
    "@code_wat f(3.0) :($name)"
   ]
  },
  {
   "cell_type": "code",
   "execution_count": 27,
   "metadata": {},
   "outputs": [
    {
     "data": {
      "text/plain": [
       "f2 (generic function with 1 method)"
      ]
     },
     "execution_count": 27,
     "metadata": {},
     "output_type": "execute_result"
    }
   ],
   "source": [
    "function f2(N)\n",
    "    s=0.0\n",
    "    for i=1:100\n",
    "        s+=N\n",
    "    end\n",
    "    return s\n",
    "end"
   ]
  },
  {
   "cell_type": "code",
   "execution_count": 32,
   "metadata": {},
   "outputs": [
    {
     "name": "stdout",
     "output_type": "stream",
     "text": [
      "Array{Any}((16,))\n",
      "  1: Expr\n",
      "    head: Symbol gotoifnot\n",
      "    args: Array{Any}((2,))\n",
      "      1: Bool true\n",
      "      2: Int64 15\n",
      "  2: Core.PhiNode\n",
      "    edges: Array{Any}((2,))\n",
      "      1: Int64 1\n",
      "      2: Int64 14\n",
      "    values: Array{Any}((2,))\n",
      "      1: Float64 0.0\n",
      "      2: Core.SSAValue\n",
      "        id: Int64 4\n",
      "  3: Core.PhiNode\n",
      "    edges: Array{Any}((2,))\n",
      "      1: Int64 1\n",
      "      2: Int64 14\n",
      "    values: Array{Any}((2,))\n",
      "      1: Int64 1\n",
      "      2: Core.SSAValue\n",
      "        id: Int64 10\n",
      "  4: Expr\n",
      "    head: Symbol call\n",
      "    args: Array{Any}((3,))\n",
      "      1: GlobalRef\n",
      "        mod: Module Base\n",
      "        name: Symbol add_float\n",
      "      2: Core.SSAValue\n",
      "        id: Int64 2\n",
      "      3: Core.SlotNumber\n",
      "        id: Int64 2\n",
      "  5: Expr\n",
      "    head: Symbol call\n",
      "    args: Array{Any}((3,))\n",
      "      1: GlobalRef\n",
      "        mod: Module Base\n",
      "        name: Symbol ===\n",
      "      2: Core.SSAValue\n",
      "        id: Int64 3\n",
      "      3: Int64 100\n",
      "  ...\n",
      "  12: Expr\n",
      "    head: Symbol call\n",
      "    args: Array{Any}((2,))\n",
      "      1: GlobalRef\n",
      "        mod: Module Base\n",
      "        name: Symbol not_int\n",
      "      2: Core.SSAValue\n",
      "        id: Int64 11\n",
      "  13: Expr\n",
      "    head: Symbol gotoifnot\n",
      "    args: Array{Any}((2,))\n",
      "      1: Core.SSAValue\n",
      "        id: Int64 12\n",
      "      2: Int64 15\n",
      "  14: Core.GotoNode\n",
      "    label: Int64 2\n",
      "  15: Core.PhiNode\n",
      "    edges: Array{Any}((2,))\n",
      "      1: Int64 13\n",
      "      2: Int64 1\n",
      "    values: Array{Any}((2,))\n",
      "      1: Core.SSAValue\n",
      "        id: Int64 4\n",
      "      2: Float64 0.0\n",
      "  16: Expr\n",
      "    head: Symbol return\n",
      "    args: Array{Any}((1,))\n",
      "      1: Core.SSAValue\n",
      "        id: Int64 15\n"
     ]
    },
    {
     "ename": "KeyError",
     "evalue": "KeyError: key 11 not found",
     "output_type": "error",
     "traceback": [
      "KeyError: key 11 not found",
      "",
      "Stacktrace:",
      " [1] getindex(::Dict{Any,Any}, ::Int64) at ./dict.jl:477",
      " [2] parsearg(::Array{Any,1}, ::Core.CodeInfo, ::Core.PhiNode, ::Int64, ::Symbol) at /home/andy/dev/julia2wat/src/parser.jl:145",
      " [3] parseitem at /home/andy/dev/julia2wat/src/parser.jl:57 [inlined] (repeats 2 times)",
      " [4] #exA2functext#24(::Bool, ::typeof(julia2wat.exA2functext), ::Function, ::Type) at /home/andy/dev/julia2wat/src/parser.jl:37",
      " [5] exA2functext at /home/andy/dev/julia2wat/src/parser.jl:27 [inlined]",
      " [6] code_wat(::Function, ::Type, ::String) at /home/andy/dev/julia2wat/src/parser.jl:54",
      " [7] top-level scope at In[32]:1"
     ]
    }
   ],
   "source": [
    "@code_wat f2(3.0) :($name)"
   ]
  },
  {
   "cell_type": "code",
   "execution_count": 29,
   "metadata": {},
   "outputs": [
    {
     "name": "stdout",
     "output_type": "stream",
     "text": [
      "\n",
      "define double @julia_f2_17806(double) {\n",
      "top:\n",
      "  br label %L2\n",
      "\n",
      "L2:                                               ; preds = %L2, %top\n",
      "  %value_phi = phi double [ 0.000000e+00, %top ], [ %1, %L2 ]\n",
      "  %value_phi1 = phi i64 [ 1, %top ], [ %3, %L2 ]\n",
      "  %1 = fadd double %value_phi, %0\n",
      "  %2 = icmp eq i64 %value_phi1, 100\n",
      "  %3 = add nuw nsw i64 %value_phi1, 1\n",
      "  br i1 %2, label %L15, label %L2\n",
      "\n",
      "L15:                                              ; preds = %L2\n",
      "  ret double %1\n",
      "}\n"
     ]
    }
   ],
   "source": [
    "#cinfo=@code_typed kaka(1.0, 2.0, 3.0, 4.0)\n",
    "cinfo=@code_typed f2(3.0)\n",
    "cinfo=cinfo[1]\n",
    "@code_llvm debuginfo=:none f2(3.0)"
   ]
  },
  {
   "cell_type": "code",
   "execution_count": 32,
   "metadata": {},
   "outputs": [
    {
     "name": "stdout",
     "output_type": "stream",
     "text": [
      "\n",
      "define double @julia_f_17808(double) {\n",
      "top:\n",
      "  br label %L6\n",
      "\n",
      "L6:                                               ; preds = %top, %L6\n",
      "  %value_phi13 = phi i64 [ 0, %top ], [ %1, %L6 ]\n",
      "  %value_phi2 = phi double [ 0.000000e+00, %top ], [ %2, %L6 ]\n",
      "  %1 = add nuw nsw i64 %value_phi13, 1\n",
      "  %2 = fadd double %value_phi2, %0\n",
      "  %exitcond = icmp eq i64 %1, 100\n",
      "  br i1 %exitcond, label %L9, label %L6\n",
      "\n",
      "L9:                                               ; preds = %L6\n",
      "  ret double %2\n",
      "}\n"
     ]
    }
   ],
   "source": [
    "cinfo = @code_typed debuginfo=:none f(3.0)\n",
    "cinfo=cinfo[1]\n",
    "@code_llvm debuginfo=:none f(3.0)"
   ]
  },
  {
   "cell_type": "code",
   "execution_count": 25,
   "metadata": {},
   "outputs": [
    {
     "data": {
      "text/plain": [
       "5-element Array{Symbol,1}:\n",
       " Symbol(\"#self#\")\n",
       " :N              \n",
       " :s              \n",
       " Symbol(\"\")      \n",
       " :i              "
      ]
     },
     "execution_count": 25,
     "metadata": {},
     "output_type": "execute_result"
    }
   ],
   "source": [
    "cinfo.slotnames"
   ]
  },
  {
   "cell_type": "code",
   "execution_count": null,
   "metadata": {},
   "outputs": [],
   "source": []
  },
  {
   "cell_type": "code",
   "execution_count": null,
   "metadata": {},
   "outputs": [],
   "source": [
    "cinfo.code[2]"
   ]
  },
  {
   "cell_type": "code",
   "execution_count": null,
   "metadata": {},
   "outputs": [],
   "source": [
    "cinfo.ssavaluetypes"
   ]
  },
  {
   "cell_type": "code",
   "execution_count": null,
   "metadata": {},
   "outputs": [],
   "source": []
  },
  {
   "cell_type": "code",
   "execution_count": null,
   "metadata": {},
   "outputs": [],
   "source": [
    "k(x) = 3.1*exp(x)"
   ]
  },
  {
   "cell_type": "code",
   "execution_count": null,
   "metadata": {},
   "outputs": [],
   "source": [
    "cinfo=@code_typed k(3.0)\n",
    "cinfo=cinfo[1]"
   ]
  },
  {
   "cell_type": "code",
   "execution_count": null,
   "metadata": {},
   "outputs": [],
   "source": [
    "cinfo.code"
   ]
  },
  {
   "cell_type": "code",
   "execution_count": null,
   "metadata": {},
   "outputs": [],
   "source": [
    "cinfo.ssavaluetypes"
   ]
  },
  {
   "cell_type": "code",
   "execution_count": null,
   "metadata": {},
   "outputs": [],
   "source": [
    "#cinfo.ssaflags"
   ]
  },
  {
   "cell_type": "code",
   "execution_count": null,
   "metadata": {},
   "outputs": [],
   "source": [
    "?Core.CodeInfo"
   ]
  },
  {
   "cell_type": "code",
   "execution_count": null,
   "metadata": {},
   "outputs": [],
   "source": [
    "@code_lowered f(2.0, 3)"
   ]
  },
  {
   "cell_type": "code",
   "execution_count": null,
   "metadata": {},
   "outputs": [],
   "source": [
    "?@code_typed"
   ]
  }
 ],
 "metadata": {
  "kernelspec": {
   "display_name": "Julia 1.3.1",
   "language": "julia",
   "name": "julia-1.3"
  },
  "language_info": {
   "file_extension": ".jl",
   "mimetype": "application/julia",
   "name": "julia",
   "version": "1.3.1"
  }
 },
 "nbformat": 4,
 "nbformat_minor": 4
}
