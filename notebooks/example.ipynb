{
 "cells": [
  {
   "cell_type": "code",
   "execution_count": 1,
   "metadata": {},
   "outputs": [
    {
     "name": "stdout",
     "output_type": "stream",
     "text": [
      "\u001b[32m\u001b[1mActivating\u001b[22m\u001b[39m environment at `~/dev/julia2wat/Project.toml`\n"
     ]
    },
    {
     "name": "stderr",
     "output_type": "stream",
     "text": [
      "┌ Info: Precompiling julia2wat [683821a8-2d1a-4f23-b146-c2dd114290c7]\n",
      "└ @ Base loading.jl:1273\n"
     ]
    }
   ],
   "source": [
    "#include(\"../src/julia2wat.jl\")\n",
    "using Pkg; Pkg.activate(\"../\")\n",
    "\n",
    "using julia2wat"
   ]
  },
  {
   "cell_type": "code",
   "execution_count": 2,
   "metadata": {
    "scrolled": false
   },
   "outputs": [
    {
     "data": {
      "text/plain": [
       "Main.example"
      ]
     },
     "execution_count": 2,
     "metadata": {},
     "output_type": "execute_result"
    }
   ],
   "source": [
    "module example\n",
    "\n",
    "solartime(J, ts, SM, L) = ts + 0.17*sin(4π*(J-80)/373) - 0.129*sin(2π*(J-8)/355) + 12*(SM-L)/π;\n",
    "solardeclination(J) = 0.4093*sin(2π*(J-81)/368); #in radians\n",
    "solarzenith(t,d,l) = 0.5*π - asin( sin(l)*sin(d) - cos(l)*cos(d)*cos(π*t/12));\n",
    "solarazimuth(t,d,l) = atan( -cos(d)*sin(π*t/12) / (cos(l)*sin(d) - sin(l)*cos(d)*cos(π*t/12)) );\n",
    "\n",
    "function solarposition(v, J, ts, L, l, SM)\n",
    "    t = solartime(J, ts, SM, L);\n",
    "    d = solardeclination(J);\n",
    "    v[1] = solarzenith(t,d,l)\n",
    "    v[2] = solarazimuth(t,d,l)\n",
    "    \n",
    "    println(v[1]) #will do console.log\n",
    "    println(v[2])\n",
    "    \n",
    "    return nothing\n",
    "end\n",
    "\n",
    "end"
   ]
  },
  {
   "cell_type": "code",
   "execution_count": 3,
   "metadata": {
    "scrolled": false
   },
   "outputs": [
    {
     "name": "stdout",
     "output_type": "stream",
     "text": [
      "DEBUGINFO: ex=solarposition A=Tuple{Array{Float64,1},Float64,Float64,Float64,Float64,Float64}\n",
      "DEBUGINFO: invoke MethodInstance MethodInstance for solartime(::Float64, ::Float64, ::Float64, ::Float64)\n",
      "DEBUGINFO: invoke MethodInstance MethodInstance for solartime(::Float64, ::Float64, ::Float64, ::Float64)\n",
      "DEBUGINFO: ex=solartime A=NTuple{4,Float64}\n",
      "DEBUGINFO: call Type Float64\n",
      "DEBUGINFO: invoke MethodInstance MethodInstance for sin(::Float64)\n",
      "DEBUGINFO: call Type Float64\n",
      "DEBUGINFO: invoke MethodInstance MethodInstance for sin(::Float64)\n",
      "DEBUGINFO: call Type Float64\n",
      "SSA:\n",
      "%1: f32.convert_s/i32 (i32.const 80)\n",
      "%2: f32.sub (local.get $J) %1\n",
      "%3: f32.mul (f32.const 12.566370614359172) %2\n",
      "%4: f32.div %3 (f32.const 373.0)\n",
      "%5: call $sin %4\n",
      "%6: f32.mul (f32.const 0.17) %5\n",
      "%7: f32.add (local.get $ts) %6\n",
      "%8: f32.convert_s/i32 (i32.const 8)\n",
      "%9: f32.sub (local.get $J) %8\n",
      "%10: f32.mul (f32.const 6.283185307179586) %9\n",
      "%11: f32.div %10 (f32.const 355.0)\n",
      "%12: call $sin %11\n",
      "%13: f32.mul (f32.const 0.129) %12\n",
      "%14: f32.sub %7 %13\n",
      "%15: f32.sub (local.get $SM) (local.get $L)\n",
      "%16: f32.convert_s/i32 (i32.const 12)\n",
      "%17: f32.mul %16 %15\n",
      "%18: f32.div %17 (f32.const 3.141592653589793)\n",
      "%19: f32.add %14 %18\n",
      "%20: %19\n",
      "DEBUGINFO: invoke GlobalRef Main.example.solartime\n",
      "DEBUGINFO: call Type Float64\n",
      "DEBUGINFO: invoke MethodInstance MethodInstance for sin(::Float64)\n",
      "DEBUGINFO: invoke MethodInstance MethodInstance for solarzenith(::Float64, ::Float64, ::Float64)\n",
      "DEBUGINFO: invoke MethodInstance MethodInstance for solarzenith(::Float64, ::Float64, ::Float64)\n",
      "DEBUGINFO: ex=solarzenith A=Tuple{Float64,Float64,Float64}\n",
      "DEBUGINFO: invoke MethodInstance MethodInstance for sin(::Float64)\n",
      "DEBUGINFO: invoke MethodInstance MethodInstance for sin(::Float64)\n",
      "DEBUGINFO: invoke MethodInstance MethodInstance for cos(::Float64)\n",
      "DEBUGINFO: invoke MethodInstance MethodInstance for cos(::Float64)\n",
      "DEBUGINFO: invoke MethodInstance MethodInstance for cos(::Float64)\n",
      "DEBUGINFO: invoke MethodInstance MethodInstance for asin(::Float64)\n",
      "SSA:\n",
      "%1: call $sin (local.get $l)\n",
      "%2: call $sin (local.get $d)\n",
      "%3: f32.mul %1 %2\n",
      "%4: call $cos (local.get $l)\n",
      "%5: call $cos (local.get $d)\n",
      "%6: f32.mul (f32.const 3.141592653589793) (local.get $t)\n",
      "%7: f32.div %6 (f32.const 12.0)\n",
      "%8: call $cos %7\n",
      "%9: f32.mul %4 %5\n",
      "%10: f32.mul %9 %8\n",
      "%11: f32.sub %3 %10\n",
      "%12: call $asin %11\n",
      "%13: f32.sub (f32.const 1.5707963267948966) %12\n",
      "%14: %13\n",
      "DEBUGINFO: invoke GlobalRef Main.example.solarzenith\n",
      "DEBUGINFO: invoke MethodInstance MethodInstance for solarazimuth(::Float64, ::Float64, ::Float64)\n",
      "DEBUGINFO: invoke MethodInstance MethodInstance for solarazimuth(::Float64, ::Float64, ::Float64)\n",
      "DEBUGINFO: ex=solarazimuth A=Tuple{Float64,Float64,Float64}\n",
      "DEBUGINFO: invoke MethodInstance MethodInstance for cos(::Float64)\n",
      "DEBUGINFO: invoke MethodInstance MethodInstance for sin(::Float64)\n",
      "DEBUGINFO: invoke MethodInstance MethodInstance for cos(::Float64)\n",
      "DEBUGINFO: invoke MethodInstance MethodInstance for sin(::Float64)\n",
      "DEBUGINFO: invoke MethodInstance MethodInstance for sin(::Float64)\n",
      "DEBUGINFO: invoke MethodInstance MethodInstance for cos(::Float64)\n",
      "DEBUGINFO: invoke MethodInstance MethodInstance for cos(::Float64)\n",
      "DEBUGINFO: invoke MethodInstance MethodInstance for atan(::Float64)\n",
      "SSA:\n",
      "%1: call $cos (local.get $d)\n",
      "%2: f32.neg %1\n",
      "%3: f32.mul (f32.const 3.141592653589793) (local.get $t)\n",
      "%4: f32.div %3 (f32.const 12.0)\n",
      "%5: call $sin %4\n",
      "%6: f32.mul %2 %5\n",
      "%7: call $cos (local.get $l)\n",
      "%8: call $sin (local.get $d)\n",
      "%9: f32.mul %7 %8\n",
      "%10: call $sin (local.get $l)\n",
      "%11: call $cos (local.get $d)\n",
      "%12: f32.mul (f32.const 3.141592653589793) (local.get $t)\n",
      "%13: f32.div %12 (f32.const 12.0)\n",
      "%14: call $cos %13\n",
      "%15: f32.mul %10 %11\n",
      "%16: f32.mul %15 %14\n",
      "%17: f32.sub %9 %16\n",
      "%18: f32.div %6 %17\n",
      "%19: call $atan %18\n",
      "%20: %19\n",
      "DEBUGINFO: invoke GlobalRef Main.example.solarazimuth\n",
      "DEBUGINFO: invoke MethodInstance MethodInstance for println(::Float64)\n",
      "DEBUGINFO: invoke MethodInstance MethodInstance for println(::Float64)\n",
      "DEBUGINFO: return GlobalRef Main.example.nothing\n",
      "SSA:\n",
      "%1: call $solartime (local.get $J) (local.get $ts) (local.get $SM) (local.get $L)\n",
      "%2: f32.convert_s/i32 (i32.const 81)\n",
      "%3: f32.sub (local.get $J) %2\n",
      "%4: f32.mul (f32.const 6.283185307179586) %3\n",
      "%5: f32.div %4 (f32.const 368.0)\n",
      "%6: call $sin %5\n",
      "%7: f32.mul (f32.const 0.4093) %6\n",
      "%8: call $solarzenith %1 %7 (local.get $l)\n",
      "%9: f32.store (i32.add (local.get $v) (i32.const 4)) %8\n",
      "%10: call $solarazimuth %1 %7 (local.get $l)\n",
      "%11: f32.store (i32.add (local.get $v) (i32.const 8)) %10\n",
      "%12: f32.load (i32.add (local.get $v) (i32.const 4))\n",
      "%13: call $consolelog %12\n",
      "%14: f32.load (i32.add (local.get $v) (i32.const 8))\n",
      "%15: call $consolelog %14\n",
      "%16: \n",
      "INFO: saved ../wasm/example.wat\n"
     ]
    }
   ],
   "source": [
    "name = \"../wasm/example\"\n",
    "\n",
    "@code_wat example.solarposition(zeros(2), 1.0,1.0,1.0,1.0,1.0) :($name)"
   ]
  },
  {
   "cell_type": "code",
   "execution_count": null,
   "metadata": {
    "scrolled": false
   },
   "outputs": [],
   "source": [
    "readwat(name)"
   ]
  },
  {
   "cell_type": "code",
   "execution_count": null,
   "metadata": {
    "scrolled": false
   },
   "outputs": [],
   "source": [
    "compilewat(name)"
   ]
  },
  {
   "cell_type": "code",
   "execution_count": null,
   "metadata": {
    "scrolled": false
   },
   "outputs": [],
   "source": [
    "println(readwat(name))"
   ]
  },
  {
   "cell_type": "code",
   "execution_count": null,
   "metadata": {},
   "outputs": [],
   "source": []
  }
 ],
 "metadata": {
  "kernelspec": {
   "display_name": "Julia 1.3.1",
   "language": "julia",
   "name": "julia-1.3"
  },
  "language_info": {
   "file_extension": ".jl",
   "mimetype": "application/julia",
   "name": "julia",
   "version": "1.3.1"
  }
 },
 "nbformat": 4,
 "nbformat_minor": 4
}
