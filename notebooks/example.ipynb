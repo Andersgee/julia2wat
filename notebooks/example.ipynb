{
 "cells": [
  {
   "cell_type": "code",
   "execution_count": 1,
   "metadata": {},
   "outputs": [
    {
     "name": "stdout",
     "output_type": "stream",
     "text": [
      "\u001b[32m\u001b[1mActivating\u001b[22m\u001b[39m environment at `~/dev/julia2wat/Project.toml`\n"
     ]
    },
    {
     "name": "stderr",
     "output_type": "stream",
     "text": [
      "┌ Info: Precompiling julia2wat [683821a8-2d1a-4f23-b146-c2dd114290c7]\n",
      "└ @ Base loading.jl:1273\n"
     ]
    }
   ],
   "source": [
    "#include(\"../src/julia2wat.jl\")\n",
    "using Pkg; Pkg.activate(\"../\")\n",
    "\n",
    "using julia2wat"
   ]
  },
  {
   "cell_type": "code",
   "execution_count": 2,
   "metadata": {
    "scrolled": false
   },
   "outputs": [
    {
     "data": {
      "text/plain": [
       "Main.example"
      ]
     },
     "execution_count": 2,
     "metadata": {},
     "output_type": "execute_result"
    }
   ],
   "source": [
    "module example\n",
    "\n",
    "solartime(J, ts, SM, L) = ts + 0.17*sin(4π*(J-80)/373) - 0.129*sin(2π*(J-8)/355) + 12*(SM-L)/π;\n",
    "solardeclination(J) = 0.4093*sin(2π*(J-81)/368); #in radians\n",
    "solarzenith(t,d,l) = 0.5*π - asin( sin(l)*sin(d) - cos(l)*cos(d)*cos(π*t/12));\n",
    "solarazimuth(t,d,l) = atan( -cos(d)*sin(π*t/12) / (cos(l)*sin(d) - sin(l)*cos(d)*cos(π*t/12)) );\n",
    "\n",
    "function solarposition(v, J, ts, L, l, SM)\n",
    "    t = solartime(J, ts, SM, L);\n",
    "    d = solardeclination(J);\n",
    "    v[1] = solarzenith(t,d,l)\n",
    "    v[2] = solarazimuth(t,d,l)\n",
    "    \n",
    "    println(v[1]) #will do console.log\n",
    "    println(v[2])\n",
    "    \n",
    "    return nothing\n",
    "end\n",
    "\n",
    "end"
   ]
  },
  {
   "cell_type": "code",
   "execution_count": 3,
   "metadata": {
    "scrolled": false
   },
   "outputs": [
    {
     "name": "stdout",
     "output_type": "stream",
     "text": [
      "INFO: saved ../wasm/example.wat\n"
     ]
    }
   ],
   "source": [
    "name = \"../wasm/example\"\n",
    "\n",
    "@code_wat example.solarposition(zeros(2), 1.0,1.0,1.0,1.0,1.0) :($name)"
   ]
  },
  {
   "cell_type": "code",
   "execution_count": 4,
   "metadata": {
    "scrolled": false
   },
   "outputs": [
    {
     "name": "stdout",
     "output_type": "stream",
     "text": [
      "(module $../wasm/example\n",
      "(memory (import \"imports\" \"mem\") 1)\n",
      "(func $consolelog (import \"imports\" \"consolelog\") (param f32))\n",
      "(func $sqrt (import \"imports\" \"sqrt\") (param f32) (result f32))\n",
      "(func $exp (import \"imports\" \"exp\") (param f32) (result f32))\n",
      "(func $log (import \"imports\" \"log\") (param f32) (result f32))\n",
      "(func $pow (import \"imports\" \"pow\") (param f32 f32) (result f32))\n",
      "(func $powi (import \"imports\" \"pow\") (param i32 i32) (result i32))\n",
      "(func $sin (import \"imports\" \"sin\") (param f32) (result f32))\n",
      "(func $cos (import \"imports\" \"cos\") (param f32) (result f32))\n",
      "(func $asin (import \"imports\" \"asin\") (param f32) (result f32))\n",
      "(func $acos (import \"imports\" \"acos\") (param f32) (result f32))\n",
      "(func $atan (import \"imports\" \"atan\") (param f32) (result f32))\n",
      "\n",
      "(func $solartime (export \"solartime\") (param $J f32) (param $ts f32) (param $SM f32) (param $L f32) (result f32)\n",
      "(f32.add(f32.sub(f32.add(local.get $ts)(f32.mul(f32.const 0.17)(call $sin(f32.div(f32.mul(f32.const 12.566370614359172)(f32.sub(local.get $J)(f32.convert_s/i32(i32.const 80))))(f32.const 373.0)))))(f32.mul(f32.const 0.129)(call $sin(f32.div(f32.mul(f32.const 6.283185307179586)(f32.sub(local.get $J)(f32.convert_s/i32(i32.const 8))))(f32.const 355.0)))))(f32.div(f32.mul(f32.convert_s/i32(i32.const 12))(f32.sub(local.get $SM)(local.get $L)))(f32.const 3.141592653589793)))\n",
      ")\n",
      "\n",
      "(func $solarzenith (export \"solarzenith\") (param $t f32) (param $d f32) (param $l f32) (result f32)\n",
      "(f32.sub(f32.const 1.5707963267948966)(call $asin(f32.sub(f32.mul(call $sin(local.get $l))(call $sin(local.get $d)))(f32.mul(f32.mul(call $cos(local.get $l))(call $cos(local.get $d)))(call $cos(f32.div(f32.mul(f32.const 3.141592653589793)(local.get $t))(f32.const 12.0)))))))\n",
      ")\n",
      "\n",
      "(func $solarazimuth (export \"solarazimuth\") (param $t f32) (param $d f32) (param $l f32) (result f32)\n",
      "(call $atan(f32.div(f32.mul(f32.neg(call $cos(local.get $d)))(call $sin(f32.div(f32.mul(f32.const 3.141592653589793)(local.get $t))(f32.const 12.0))))(f32.sub(f32.mul(call $cos(local.get $l))(call $sin(local.get $d)))(f32.mul(f32.mul(call $sin(local.get $l))(call $cos(local.get $d)))(call $cos(f32.div(f32.mul(f32.const 3.141592653589793)(local.get $t))(f32.const 12.0)))))))\n",
      ")\n",
      "\n",
      "(func $solarposition (export \"solarposition\") (param $v i32) (param $J f32) (param $ts f32) (param $L f32) (param $l f32) (param $SM f32)\n",
      "(f32.store(i32.add(local.get $v)(i32.const 4))(call $solarzenith(call $solartime(local.get $J)(local.get $ts)(local.get $SM)(local.get $L))(f32.mul(f32.const 0.4093)(call $sin(f32.div(f32.mul(f32.const 6.283185307179586)(f32.sub(local.get $J)(f32.convert_s/i32(i32.const 81))))(f32.const 368.0))))(local.get $l)))(f32.store(i32.add(local.get $v)(i32.const 8))(call $solarazimuth(call $solartime(local.get $J)(local.get $ts)(local.get $SM)(local.get $L))(f32.mul(f32.const 0.4093)(call $sin(f32.div(f32.mul(f32.const 6.283185307179586)(f32.sub(local.get $J)(f32.convert_s/i32(i32.const 81))))(f32.const 368.0))))(local.get $l)))(call $consolelog(f32.load(i32.add(local.get $v)(i32.const 4))))(call $consolelog(f32.load(i32.add(local.get $v)(i32.const 8))))\n",
      ")\n",
      "\n",
      ")\n"
     ]
    }
   ],
   "source": [
    "readwat(name)"
   ]
  },
  {
   "cell_type": "code",
   "execution_count": 5,
   "metadata": {
    "scrolled": false
   },
   "outputs": [
    {
     "name": "stdout",
     "output_type": "stream",
     "text": [
      "INFO: saved binaryen optimized ../wasm/example.wasm\n",
      "(also translated back and overwritten ../wasm/example.wat)\n"
     ]
    }
   ],
   "source": [
    "compilewat(name)"
   ]
  },
  {
   "cell_type": "code",
   "execution_count": 6,
   "metadata": {
    "scrolled": false
   },
   "outputs": [
    {
     "name": "stdout",
     "output_type": "stream",
     "text": [
      "(module\n",
      "  (type (;0;) (func (param f32) (result f32)))\n",
      "  (type (;1;) (func (param f32 f32 f32) (result f32)))\n",
      "  (type (;2;) (func (param i32 f32 f32 f32 f32 f32)))\n",
      "  (type (;3;) (func (param f32)))\n",
      "  (type (;4;) (func (param f32 f32 f32 f32) (result f32)))\n",
      "  (import \"imports\" \"consolelog\" (func (;0;) (type 3)))\n",
      "  (import \"imports\" \"sin\" (func (;1;) (type 0)))\n",
      "  (import \"imports\" \"cos\" (func (;2;) (type 0)))\n",
      "  (import \"imports\" \"asin\" (func (;3;) (type 0)))\n",
      "  (import \"imports\" \"atan\" (func (;4;) (type 0)))\n",
      "  (import \"imports\" \"mem\" (memory (;0;) 1))\n",
      "  (func (;5;) (type 4) (param f32 f32 f32 f32) (result f32)\n",
      "    local.get 1\n",
      "    f32.const 0x1.5c28f6p-3 (;=0.17;)\n",
      "    f32.const 0x1.921fb6p+3 (;=12.5664;)\n",
      "    local.get 0\n",
      "    f32.const 0x1.4p+6 (;=80;)\n",
      "    f32.sub\n",
      "    f32.mul\n",
      "    f32.const 0x1.75p+8 (;=373;)\n",
      "    f32.div\n",
      "    call 1\n",
      "    f32.mul\n",
      "    f32.add\n",
      "    f32.const 0x1.083126p-3 (;=0.129;)\n",
      "    f32.const 0x1.921fb6p+2 (;=6.28319;)\n",
      "    local.get 0\n",
      "    f32.const 0x1p+3 (;=8;)\n",
      "    f32.sub\n",
      "    f32.mul\n",
      "    f32.const 0x1.63p+8 (;=355;)\n",
      "    f32.div\n",
      "    call 1\n",
      "    f32.mul\n",
      "    f32.sub\n",
      "    f32.const 0x1.8p+3 (;=12;)\n",
      "    local.get 2\n",
      "    local.get 3\n",
      "    f32.sub\n",
      "    f32.mul\n",
      "    f32.const 0x1.921fb6p+1 (;=3.14159;)\n",
      "    f32.div\n",
      "    f32.add)\n",
      "  (func (;6;) (type 1) (param f32 f32 f32) (result f32)\n",
      "    f32.const 0x1.921fb6p+0 (;=1.5708;)\n",
      "    local.get 2\n",
      "    call 1\n",
      "    local.get 1\n",
      "    call 1\n",
      "    f32.mul\n",
      "    local.get 2\n",
      "    call 2\n",
      "    local.get 1\n",
      "    call 2\n",
      "    f32.mul\n",
      "    f32.const 0x1.921fb6p+1 (;=3.14159;)\n",
      "    local.get 0\n",
      "    f32.mul\n",
      "    f32.const 0x1.8p+3 (;=12;)\n",
      "    f32.div\n",
      "    call 2\n",
      "    f32.mul\n",
      "    f32.sub\n",
      "    call 3\n",
      "    f32.sub)\n",
      "  (func (;7;) (type 1) (param f32 f32 f32) (result f32)\n",
      "    local.get 1\n",
      "    call 2\n",
      "    f32.neg\n",
      "    f32.const 0x1.921fb6p+1 (;=3.14159;)\n",
      "    local.get 0\n",
      "    f32.mul\n",
      "    f32.const 0x1.8p+3 (;=12;)\n",
      "    f32.div\n",
      "    local.tee 0\n",
      "    call 1\n",
      "    f32.mul\n",
      "    local.get 2\n",
      "    call 2\n",
      "    local.get 1\n",
      "    call 1\n",
      "    f32.mul\n",
      "    local.get 2\n",
      "    call 1\n",
      "    local.get 1\n",
      "    call 2\n",
      "    f32.mul\n",
      "    local.get 0\n",
      "    call 2\n",
      "    f32.mul\n",
      "    f32.sub\n",
      "    f32.div\n",
      "    call 4)\n",
      "  (func (;8;) (type 2) (param i32 f32 f32 f32 f32 f32)\n",
      "    (local i32 f32)\n",
      "    local.get 0\n",
      "    i32.const 4\n",
      "    i32.add\n",
      "    local.tee 6\n",
      "    local.get 1\n",
      "    local.get 2\n",
      "    local.get 5\n",
      "    local.get 3\n",
      "    call 5\n",
      "    f32.const 0x1.a31f8ap-2 (;=0.4093;)\n",
      "    f32.const 0x1.921fb6p+2 (;=6.28319;)\n",
      "    local.get 1\n",
      "    f32.const 0x1.44p+6 (;=81;)\n",
      "    f32.sub\n",
      "    f32.mul\n",
      "    f32.const 0x1.7p+8 (;=368;)\n",
      "    f32.div\n",
      "    local.tee 7\n",
      "    call 1\n",
      "    f32.mul\n",
      "    local.get 4\n",
      "    call 6\n",
      "    f32.store\n",
      "    local.get 0\n",
      "    i32.const 8\n",
      "    i32.add\n",
      "    local.tee 0\n",
      "    local.get 1\n",
      "    local.get 2\n",
      "    local.get 5\n",
      "    local.get 3\n",
      "    call 5\n",
      "    f32.const 0x1.a31f8ap-2 (;=0.4093;)\n",
      "    local.get 7\n",
      "    call 1\n",
      "    f32.mul\n",
      "    local.get 4\n",
      "    call 7\n",
      "    f32.store\n",
      "    local.get 6\n",
      "    f32.load\n",
      "    call 0\n",
      "    local.get 0\n",
      "    f32.load\n",
      "    call 0)\n",
      "  (export \"solartime\" (func 5))\n",
      "  (export \"solarzenith\" (func 6))\n",
      "  (export \"solarazimuth\" (func 7))\n",
      "  (export \"solarposition\" (func 8)))\n",
      "\n",
      "nothing\n"
     ]
    }
   ],
   "source": [
    "println(readwat(name))"
   ]
  },
  {
   "cell_type": "code",
   "execution_count": null,
   "metadata": {},
   "outputs": [],
   "source": []
  }
 ],
 "metadata": {
  "kernelspec": {
   "display_name": "Julia 1.3.1",
   "language": "julia",
   "name": "julia-1.3"
  },
  "language_info": {
   "file_extension": ".jl",
   "mimetype": "application/julia",
   "name": "julia",
   "version": "1.3.1"
  }
 },
 "nbformat": 4,
 "nbformat_minor": 4
}
