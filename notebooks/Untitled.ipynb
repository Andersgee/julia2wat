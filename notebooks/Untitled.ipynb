{
 "cells": [
  {
   "cell_type": "code",
   "execution_count": 1,
   "metadata": {},
   "outputs": [
    {
     "name": "stderr",
     "output_type": "stream",
     "text": [
      "┌ Info: Precompiling Revise [295af30f-e4ad-537b-8983-00126c2a3abe]\n",
      "└ @ Base loading.jl:1273\n",
      "┌ Warning: no Manifest.toml file found, static paths used\n",
      "└ @ Revise /home/andy/.julia/packages/Revise/C272c/src/Revise.jl:1219\n"
     ]
    }
   ],
   "source": [
    "using Revise"
   ]
  },
  {
   "cell_type": "code",
   "execution_count": 2,
   "metadata": {},
   "outputs": [
    {
     "name": "stdout",
     "output_type": "stream",
     "text": [
      "\u001b[32m\u001b[1mActivating\u001b[22m\u001b[39m environment at `~/dev/julia2wat/Project.toml`\n"
     ]
    },
    {
     "name": "stderr",
     "output_type": "stream",
     "text": [
      "┌ Info: Precompiling julia2wat [683821a8-2d1a-4f23-b146-c2dd114290c7]\n",
      "└ @ Base loading.jl:1273\n",
      "WARNING: Method definition ^(Float64, Float64) in module Math at math.jl:847 overwritten in module julia2wat at /home/andy/dev/julia2wat/src/ops.jl:21.\n",
      "  ** incremental compilation may be fatally broken for this module **\n",
      "\n"
     ]
    }
   ],
   "source": [
    "using Pkg; Pkg.activate(\"../\")\n",
    "using julia2wat\n",
    "#include(\"../src/julia2wat.jl\")"
   ]
  },
  {
   "cell_type": "code",
   "execution_count": 15,
   "metadata": {},
   "outputs": [
    {
     "data": {
      "text/plain": [
       "kaka (generic function with 1 method)"
      ]
     },
     "execution_count": 15,
     "metadata": {},
     "output_type": "execute_result"
    }
   ],
   "source": [
    "function f(N)\n",
    "    s=0.0\n",
    "    i=0\n",
    "    k=2.1\n",
    "    while i<10\n",
    "        i+=1\n",
    "        s+=N\n",
    "    end\n",
    "    return s+k\n",
    "end\n",
    "\n",
    "kaka(a,b,c,d) = (a+b)*(c+d)"
   ]
  },
  {
   "cell_type": "code",
   "execution_count": 25,
   "metadata": {
    "scrolled": false
   },
   "outputs": [
    {
     "name": "stdout",
     "output_type": "stream",
     "text": [
      "Array{Any}((11,))\n",
      "  1: Nothing nothing\n",
      "  2: Core.PhiNode\n",
      "    edges: Array{Any}((2,))\n",
      "      1: Int64 1\n",
      "      2: Int64 8\n",
      "    values: Array{Any}((2,))\n",
      "      1: Float64 0.0\n",
      "      2: Core.SSAValue\n",
      "        id: Int64 7\n",
      "  3: Core.PhiNode\n",
      "    edges: Array{Any}((2,))\n",
      "      1: Int64 1\n",
      "      2: Int64 8\n",
      "    values: Array{Any}((2,))\n",
      "      1: Int64 0\n",
      "      2: Core.SSAValue\n",
      "        id: Int64 6\n",
      "  4: Expr\n",
      "    head: Symbol call\n",
      "    args: Array{Any}((3,))\n",
      "      1: GlobalRef\n",
      "        mod: Module Base\n",
      "        name: Symbol slt_int\n",
      "      2: Core.SSAValue\n",
      "        id: Int64 3\n",
      "      3: Int64 10\n",
      "  5: Expr\n",
      "    head: Symbol gotoifnot\n",
      "    args: Array{Any}((2,))\n",
      "      1: Core.SSAValue\n",
      "        id: Int64 4\n",
      "      2: Int64 9\n",
      "  ...\n",
      "  7: Expr\n",
      "    head: Symbol call\n",
      "    args: Array{Any}((3,))\n",
      "      1: GlobalRef\n",
      "        mod: Module Base\n",
      "        name: Symbol add_float\n",
      "      2: Core.SSAValue\n",
      "        id: Int64 2\n",
      "      3: Core.SlotNumber\n",
      "        id: Int64 2\n",
      "  8: Core.GotoNode\n",
      "    label: Int64 2\n",
      "  9: Core.PiNode\n",
      "    val: Float64 2.1\n",
      "    typ: Core.Compiler.Const\n",
      "      val: Float64 2.1\n",
      "      actual: Bool false\n",
      "  10: Expr\n",
      "    head: Symbol call\n",
      "    args: Array{Any}((3,))\n",
      "      1: GlobalRef\n",
      "        mod: Module Base\n",
      "        name: Symbol add_float\n",
      "      2: Core.SSAValue\n",
      "        id: Int64 2\n",
      "      3: Core.SSAValue\n",
      "        id: Int64 9\n",
      "  11: Expr\n",
      "    head: Symbol return\n",
      "    args: Array{Any}((1,))\n",
      "      1: Core.SSAValue\n",
      "        id: Int64 10\n",
      "TRIGGERED\n",
      "TRIGGERED\n",
      "INFO: saved ../wasm/kek.wat\n"
     ]
    }
   ],
   "source": [
    "name = \"../wasm/kek\"\n",
    "\n",
    "#@code_wat kaka(1.0, 2.0, 3.0, 4.0) :($name)\n",
    "@code_wat f(3.0) :($name)"
   ]
  },
  {
   "cell_type": "code",
   "execution_count": 17,
   "metadata": {},
   "outputs": [
    {
     "data": {
      "text/plain": [
       "CodeInfo(\n",
       "\u001b[90m1 ─\u001b[39m       nothing\u001b[90m::Nothing\u001b[39m\n",
       "\u001b[90m2 ┄\u001b[39m %2  = φ (#1 => 0.0, #3 => %7)\u001b[36m::Float64\u001b[39m\n",
       "\u001b[90m│  \u001b[39m %3  = φ (#1 => 0, #3 => %6)\u001b[36m::Int64\u001b[39m\n",
       "\u001b[90m│  \u001b[39m %4  = Base.slt_int(%3, 10)\u001b[36m::Bool\u001b[39m\n",
       "\u001b[90m└──\u001b[39m       goto #4 if not %4\n",
       "\u001b[90m3 ─\u001b[39m %6  = Base.add_int(%3, 1)\u001b[36m::Int64\u001b[39m\n",
       "\u001b[90m│  \u001b[39m %7  = Base.add_float(%2, N)\u001b[36m::Float64\u001b[39m\n",
       "\u001b[90m└──\u001b[39m       goto #2\n",
       "\u001b[90m4 ─\u001b[39m %9  = π (2.1, \u001b[36mCore.Compiler.Const(2.1, false)\u001b[39m)\n",
       "\u001b[90m│  \u001b[39m %10 = Base.add_float(%2, %9)\u001b[36m::Float64\u001b[39m\n",
       "\u001b[90m└──\u001b[39m       return %10\n",
       ")"
      ]
     },
     "execution_count": 17,
     "metadata": {},
     "output_type": "execute_result"
    }
   ],
   "source": [
    "#cinfo=@code_typed kaka(1.0, 2.0, 3.0, 4.0)\n",
    "cinfo=@code_typed f(3.0)\n",
    "cinfo=cinfo[1]"
   ]
  },
  {
   "cell_type": "code",
   "execution_count": 18,
   "metadata": {},
   "outputs": [
    {
     "data": {
      "text/plain": [
       "5-element Array{Symbol,1}:\n",
       " Symbol(\"#self#\")\n",
       " :N              \n",
       " :s              \n",
       " :i              \n",
       " :k              "
      ]
     },
     "execution_count": 18,
     "metadata": {},
     "output_type": "execute_result"
    }
   ],
   "source": [
    "cinfo.slotnames"
   ]
  },
  {
   "cell_type": "code",
   "execution_count": null,
   "metadata": {},
   "outputs": [],
   "source": [
    "cinfo.code[2]"
   ]
  },
  {
   "cell_type": "code",
   "execution_count": null,
   "metadata": {},
   "outputs": [],
   "source": [
    "cinfo.ssavaluetypes"
   ]
  },
  {
   "cell_type": "code",
   "execution_count": null,
   "metadata": {},
   "outputs": [],
   "source": []
  },
  {
   "cell_type": "code",
   "execution_count": null,
   "metadata": {},
   "outputs": [],
   "source": [
    "k(x) = 3.1*exp(x)"
   ]
  },
  {
   "cell_type": "code",
   "execution_count": null,
   "metadata": {},
   "outputs": [],
   "source": [
    "cinfo=@code_typed k(3.0)\n",
    "cinfo=cinfo[1]"
   ]
  },
  {
   "cell_type": "code",
   "execution_count": null,
   "metadata": {},
   "outputs": [],
   "source": [
    "cinfo.code"
   ]
  },
  {
   "cell_type": "code",
   "execution_count": null,
   "metadata": {},
   "outputs": [],
   "source": [
    "cinfo.ssavaluetypes"
   ]
  },
  {
   "cell_type": "code",
   "execution_count": null,
   "metadata": {},
   "outputs": [],
   "source": [
    "#cinfo.ssaflags"
   ]
  },
  {
   "cell_type": "code",
   "execution_count": 13,
   "metadata": {},
   "outputs": [
    {
     "data": {
      "text/latex": [
       "No documentation found.\n",
       "\n",
       "\\section{Summary}\n",
       "\\begin{verbatim}\n",
       "mutable struct Core.CodeInfo <: Any\n",
       "\\end{verbatim}\n",
       "\\section{Fields}\n",
       "\\begin{verbatim}\n",
       "code                                  :: Array{Any,1}\n",
       "codelocs                              :: Any\n",
       "ssavaluetypes                         :: Any\n",
       "ssaflags                              :: Array{UInt8,1}\n",
       "method_for_inference_limit_heuristics :: Any\n",
       "linetable                             :: Any\n",
       "slotnames                             :: Array{Symbol,1}\n",
       "slotflags                             :: Array{UInt8,1}\n",
       "slottypes                             :: Any\n",
       "rettype                               :: Any\n",
       "parent                                :: Any\n",
       "edges                                 :: Any\n",
       "min_world                             :: UInt64\n",
       "max_world                             :: UInt64\n",
       "inferred                              :: Bool\n",
       "inlineable                            :: Bool\n",
       "propagate_inbounds                    :: Bool\n",
       "pure                                  :: Bool\n",
       "\\end{verbatim}\n"
      ],
      "text/markdown": [
       "No documentation found.\n",
       "\n",
       "# Summary\n",
       "\n",
       "```\n",
       "mutable struct Core.CodeInfo <: Any\n",
       "```\n",
       "\n",
       "# Fields\n",
       "\n",
       "```\n",
       "code                                  :: Array{Any,1}\n",
       "codelocs                              :: Any\n",
       "ssavaluetypes                         :: Any\n",
       "ssaflags                              :: Array{UInt8,1}\n",
       "method_for_inference_limit_heuristics :: Any\n",
       "linetable                             :: Any\n",
       "slotnames                             :: Array{Symbol,1}\n",
       "slotflags                             :: Array{UInt8,1}\n",
       "slottypes                             :: Any\n",
       "rettype                               :: Any\n",
       "parent                                :: Any\n",
       "edges                                 :: Any\n",
       "min_world                             :: UInt64\n",
       "max_world                             :: UInt64\n",
       "inferred                              :: Bool\n",
       "inlineable                            :: Bool\n",
       "propagate_inbounds                    :: Bool\n",
       "pure                                  :: Bool\n",
       "```\n"
      ],
      "text/plain": [
       "  No documentation found.\n",
       "\n",
       "\u001b[1m  Summary\u001b[22m\n",
       "\u001b[1m  ≡≡≡≡≡≡≡≡≡\u001b[22m\n",
       "\n",
       "\u001b[36m  mutable struct Core.CodeInfo <: Any\u001b[39m\n",
       "\n",
       "\u001b[1m  Fields\u001b[22m\n",
       "\u001b[1m  ≡≡≡≡≡≡≡≡\u001b[22m\n",
       "\n",
       "\u001b[36m  code                                  :: Array{Any,1}\u001b[39m\n",
       "\u001b[36m  codelocs                              :: Any\u001b[39m\n",
       "\u001b[36m  ssavaluetypes                         :: Any\u001b[39m\n",
       "\u001b[36m  ssaflags                              :: Array{UInt8,1}\u001b[39m\n",
       "\u001b[36m  method_for_inference_limit_heuristics :: Any\u001b[39m\n",
       "\u001b[36m  linetable                             :: Any\u001b[39m\n",
       "\u001b[36m  slotnames                             :: Array{Symbol,1}\u001b[39m\n",
       "\u001b[36m  slotflags                             :: Array{UInt8,1}\u001b[39m\n",
       "\u001b[36m  slottypes                             :: Any\u001b[39m\n",
       "\u001b[36m  rettype                               :: Any\u001b[39m\n",
       "\u001b[36m  parent                                :: Any\u001b[39m\n",
       "\u001b[36m  edges                                 :: Any\u001b[39m\n",
       "\u001b[36m  min_world                             :: UInt64\u001b[39m\n",
       "\u001b[36m  max_world                             :: UInt64\u001b[39m\n",
       "\u001b[36m  inferred                              :: Bool\u001b[39m\n",
       "\u001b[36m  inlineable                            :: Bool\u001b[39m\n",
       "\u001b[36m  propagate_inbounds                    :: Bool\u001b[39m\n",
       "\u001b[36m  pure                                  :: Bool\u001b[39m"
      ]
     },
     "execution_count": 13,
     "metadata": {},
     "output_type": "execute_result"
    }
   ],
   "source": [
    "?Core.CodeInfo"
   ]
  },
  {
   "cell_type": "code",
   "execution_count": null,
   "metadata": {},
   "outputs": [],
   "source": [
    "@code_lowered f(2.0, 3)"
   ]
  },
  {
   "cell_type": "code",
   "execution_count": null,
   "metadata": {},
   "outputs": [],
   "source": [
    "?@code_typed"
   ]
  }
 ],
 "metadata": {
  "kernelspec": {
   "display_name": "Julia 1.3.1",
   "language": "julia",
   "name": "julia-1.3"
  },
  "language_info": {
   "file_extension": ".jl",
   "mimetype": "application/julia",
   "name": "julia",
   "version": "1.3.1"
  }
 },
 "nbformat": 4,
 "nbformat_minor": 4
}
