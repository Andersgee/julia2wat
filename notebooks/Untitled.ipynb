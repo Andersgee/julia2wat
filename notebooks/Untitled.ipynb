{
 "cells": [
  {
   "cell_type": "code",
   "execution_count": 1,
   "metadata": {},
   "outputs": [
    {
     "data": {
      "text/plain": [
       "Main.julia2wat"
      ]
     },
     "execution_count": 1,
     "metadata": {},
     "output_type": "execute_result"
    }
   ],
   "source": [
    "#using Pkg; Pkg.activate(\"../\")\n",
    "#using julia2wat\n",
    "include(\"../src/julia2wat.jl\")"
   ]
  },
  {
   "cell_type": "code",
   "execution_count": 2,
   "metadata": {},
   "outputs": [
    {
     "data": {
      "text/plain": [
       "kaka (generic function with 1 method)"
      ]
     },
     "execution_count": 2,
     "metadata": {},
     "output_type": "execute_result"
    }
   ],
   "source": [
    "function f(N)\n",
    "    s=0.0\n",
    "    i=0\n",
    "    while i<10\n",
    "        i+=1\n",
    "        s+=N\n",
    "    end\n",
    "    return s\n",
    "end\n",
    "\n",
    "kaka(a,b,c,d) = (a+b)*(c+d)"
   ]
  },
  {
   "cell_type": "code",
   "execution_count": 3,
   "metadata": {},
   "outputs": [
    {
     "name": "stdout",
     "output_type": "stream",
     "text": [
      "Array{Any}((9,))\n",
      "  1: Nothing nothing\n",
      "  2: Core.PhiNode\n",
      "    edges: Array{Any}((2,))\n",
      "      1: Int64 1\n",
      "      2: Int64 8\n",
      "    values: Array{Any}((2,))\n",
      "      1: Float64 0.0\n",
      "      2: Core.SSAValue\n",
      "        id: Int64 7\n",
      "  3: Core.PhiNode\n",
      "    edges: Array{Any}((2,))\n",
      "      1: Int64 1\n",
      "      2: Int64 8\n",
      "    values: Array{Any}((2,))\n",
      "      1: Int64 0\n",
      "      2: Core.SSAValue\n",
      "        id: Int64 6\n",
      "  4: Expr\n",
      "    head: Symbol call\n",
      "    args: Array{Any}((3,))\n",
      "      1: GlobalRef\n",
      "        mod: Module Base\n",
      "        name: Symbol slt_int\n",
      "      2: Core.SSAValue\n",
      "        id: Int64 3\n",
      "      3: Int64 10\n",
      "  5: Expr\n",
      "    head: Symbol gotoifnot\n",
      "    args: Array{Any}((2,))\n",
      "      1: Core.SSAValue\n",
      "        id: Int64 4\n",
      "      2: Int64 9\n",
      "  6: Expr\n",
      "    head: Symbol call\n",
      "    args: Array{Any}((3,))\n",
      "      1: GlobalRef\n",
      "        mod: Module Base\n",
      "        name: Symbol add_int\n",
      "      2: Core.SSAValue\n",
      "        id: Int64 3\n",
      "      3: Int64 1\n",
      "  7: Expr\n",
      "    head: Symbol call\n",
      "    args: Array{Any}((3,))\n",
      "      1: GlobalRef\n",
      "        mod: Module Base\n",
      "        name: Symbol add_float\n",
      "      2: Core.SSAValue\n",
      "        id: Int64 2\n",
      "      3: Core.SlotNumber\n",
      "        id: Int64 2\n",
      "  8: Core.GotoNode\n",
      "    label: Int64 2\n",
      "  9: Expr\n",
      "    head: Symbol return\n",
      "    args: Array{Any}((1,))\n",
      "      1: Core.SSAValue\n",
      "        id: Int64 2\n",
      "INFO: saved ../wasm/kek.wat\n"
     ]
    }
   ],
   "source": [
    "name = \"../wasm/kek\"\n",
    "\n",
    "#@code_wat kaka(1.0, 2.0, 3.0, 4.0) :($name)\n",
    "@julia2wat.code_wat f(3.0) :($name)"
   ]
  },
  {
   "cell_type": "code",
   "execution_count": null,
   "metadata": {},
   "outputs": [],
   "source": [
    "#cinfo=@code_typed kaka(1.0, 2.0, 3.0, 4.0)\n",
    "cinfo=@code_typed f(3.0)\n",
    "cinfo=cinfo[1]"
   ]
  },
  {
   "cell_type": "code",
   "execution_count": null,
   "metadata": {},
   "outputs": [],
   "source": [
    "cinfo.code"
   ]
  },
  {
   "cell_type": "code",
   "execution_count": null,
   "metadata": {},
   "outputs": [],
   "source": [
    "cinfo.code[2]"
   ]
  },
  {
   "cell_type": "code",
   "execution_count": null,
   "metadata": {},
   "outputs": [],
   "source": [
    "cinfo.ssavaluetypes"
   ]
  },
  {
   "cell_type": "code",
   "execution_count": null,
   "metadata": {},
   "outputs": [],
   "source": []
  },
  {
   "cell_type": "code",
   "execution_count": null,
   "metadata": {},
   "outputs": [],
   "source": [
    "k(x) = 3.1*exp(x)"
   ]
  },
  {
   "cell_type": "code",
   "execution_count": null,
   "metadata": {},
   "outputs": [],
   "source": [
    "cinfo=@code_typed k(3.0)\n",
    "cinfo=cinfo[1]"
   ]
  },
  {
   "cell_type": "code",
   "execution_count": null,
   "metadata": {},
   "outputs": [],
   "source": [
    "cinfo.code"
   ]
  },
  {
   "cell_type": "code",
   "execution_count": null,
   "metadata": {},
   "outputs": [],
   "source": [
    "cinfo.ssavaluetypes"
   ]
  },
  {
   "cell_type": "code",
   "execution_count": null,
   "metadata": {},
   "outputs": [],
   "source": [
    "#cinfo.ssaflags"
   ]
  },
  {
   "cell_type": "code",
   "execution_count": null,
   "metadata": {},
   "outputs": [],
   "source": [
    "?Core.CodeInfo"
   ]
  },
  {
   "cell_type": "code",
   "execution_count": null,
   "metadata": {},
   "outputs": [],
   "source": [
    "@code_lowered f(2.0, 3)"
   ]
  },
  {
   "cell_type": "code",
   "execution_count": null,
   "metadata": {},
   "outputs": [],
   "source": [
    "?@code_typed"
   ]
  }
 ],
 "metadata": {
  "kernelspec": {
   "display_name": "Julia 1.3.1",
   "language": "julia",
   "name": "julia-1.3"
  },
  "language_info": {
   "file_extension": ".jl",
   "mimetype": "application/julia",
   "name": "julia",
   "version": "1.3.1"
  }
 },
 "nbformat": 4,
 "nbformat_minor": 4
}
